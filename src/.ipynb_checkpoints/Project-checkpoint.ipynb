{
 "cells": [
  {
   "cell_type": "markdown",
   "metadata": {},
   "source": [
    "## Import packages"
   ]
  },
  {
   "cell_type": "code",
   "execution_count": 1,
   "metadata": {},
   "outputs": [],
   "source": [
    "import matplotlib.pyplot as plt\n",
    "import matplotlib.image as mpimg\n",
    "import numpy as np\n",
    "import cv2\n",
    "import pickle\n",
    "import os\n",
    "import glob\n",
    "\n",
    "import utils # own local module\n",
    "\n",
    "%matplotlib inline"
   ]
  },
  {
   "cell_type": "markdown",
   "metadata": {},
   "source": [
    "## Directories and constants"
   ]
  },
  {
   "cell_type": "code",
   "execution_count": 2,
   "metadata": {},
   "outputs": [
    {
     "ename": "NameError",
     "evalue": "name 'glob' is not defined",
     "output_type": "error",
     "traceback": [
      "\u001b[1;31m---------------------------------------------------------------------------\u001b[0m",
      "\u001b[1;31mNameError\u001b[0m                                 Traceback (most recent call last)",
      "\u001b[1;32m<ipython-input-2-740457d462fe>\u001b[0m in \u001b[0;36m<module>\u001b[1;34m()\u001b[0m\n\u001b[0;32m      3\u001b[0m \u001b[0mcal_data_file\u001b[0m \u001b[1;33m=\u001b[0m \u001b[1;34m'calibration.pickle'\u001b[0m \u001b[1;31m# file where to save the distortion coefficients\u001b[0m\u001b[1;33m\u001b[0m\u001b[0m\n\u001b[0;32m      4\u001b[0m \u001b[0mcal_imgs_dir\u001b[0m \u001b[1;33m=\u001b[0m \u001b[0mos\u001b[0m\u001b[1;33m.\u001b[0m\u001b[0mpath\u001b[0m\u001b[1;33m.\u001b[0m\u001b[0mjoin\u001b[0m\u001b[1;33m(\u001b[0m\u001b[1;34m'..'\u001b[0m\u001b[1;33m,\u001b[0m \u001b[1;34m'camera_cal'\u001b[0m\u001b[1;33m)\u001b[0m\u001b[1;33m\u001b[0m\u001b[0m\n\u001b[1;32m----> 5\u001b[1;33m \u001b[0mcal_imgs\u001b[0m \u001b[1;33m=\u001b[0m \u001b[0mglob\u001b[0m\u001b[1;33m.\u001b[0m\u001b[0mglob\u001b[0m\u001b[1;33m(\u001b[0m\u001b[1;34mf'{cal_imgs_dir}/*.jpg'\u001b[0m\u001b[1;33m)\u001b[0m\u001b[1;33m\u001b[0m\u001b[0m\n\u001b[0m\u001b[0;32m      6\u001b[0m \u001b[0mcal_imgs_shape\u001b[0m \u001b[1;33m=\u001b[0m \u001b[1;33m(\u001b[0m\u001b[1;36m9\u001b[0m\u001b[1;33m,\u001b[0m \u001b[1;36m6\u001b[0m\u001b[1;33m)\u001b[0m\u001b[1;33m\u001b[0m\u001b[0m\n\u001b[0;32m      7\u001b[0m \u001b[0mcal_test_img\u001b[0m \u001b[1;33m=\u001b[0m \u001b[0mos\u001b[0m\u001b[1;33m.\u001b[0m\u001b[0mpath\u001b[0m\u001b[1;33m.\u001b[0m\u001b[0mjoin\u001b[0m\u001b[1;33m(\u001b[0m\u001b[1;34m'..'\u001b[0m\u001b[1;33m,\u001b[0m \u001b[1;34m'test_images'\u001b[0m\u001b[1;33m,\u001b[0m \u001b[1;34m'test1.jpg'\u001b[0m\u001b[1;33m)\u001b[0m\u001b[1;33m\u001b[0m\u001b[0m\n",
      "\u001b[1;31mNameError\u001b[0m: name 'glob' is not defined"
     ]
    }
   ],
   "source": [
    "output_imgs_dir = os.path.join('..', 'output_images')\n",
    "\n",
    "cal_data_file = 'calibration.pickle' # file where to save the distortion coefficients\n",
    "cal_imgs_dir = os.path.join('..', 'camera_cal')\n",
    "cal_imgs = glob.glob(f'{cal_imgs_dir}/*.jpg')\n",
    "cal_imgs_shape = (9, 6)\n",
    "cal_test_img = os.path.join('..', 'test_images', 'test1.jpg')"
   ]
  },
  {
   "cell_type": "markdown",
   "metadata": {
    "collapsed": true
   },
   "source": [
    "## Camera calibration\n",
    "\n",
    "Calibration images from the given camera have 9x6 inside corners."
   ]
  },
  {
   "cell_type": "code",
   "execution_count": null,
   "metadata": {},
   "outputs": [],
   "source": [
    "def calibration_get_corners(imgs, shape):\n",
    "    # prepare object points, like (0,0,0), (1,0,0), (2,0,0) ...., (9,6,0)\n",
    "    objp = np.zeros((shape[1] * shape[0], 3), np.float32)\n",
    "    objp[:,:2] = np.mgrid[0:shape[0], 0:shape[1]].T.reshape(-1, 2)\n",
    "    \n",
    "    obj_points = []\n",
    "    img_points = []\n",
    "    corner_imgs = []\n",
    "    \n",
    "    for idx, fname in enumerate(imgs):\n",
    "        cal_img = mpimg.imread(fname)\n",
    "        gray = cv2.cvtColor(cal_img, cv2.COLOR_RGB2GRAY)\n",
    "\n",
    "        ret, corners = cv2.findChessboardCorners(gray, cal_imgs_shape, None)\n",
    "\n",
    "        if ret == True:\n",
    "            obj_points.append(objp)\n",
    "            img_points.append(corners)\n",
    "\n",
    "            cv2.drawChessboardCorners(cal_img, cal_imgs_shape, corners, ret)\n",
    "            corner_imgs.append(cal_img)\n",
    "    return obj_points, img_points, corner_imgs"
   ]
  },
  {
   "cell_type": "code",
   "execution_count": null,
   "metadata": {
    "scrolled": false
   },
   "outputs": [],
   "source": [
    "# Display the images with the marked chessboard corners to verify their correctness\n",
    "obj_points, img_points, result_imgs = calibration_get_corners(cal_imgs, cal_imgs_shape)\n",
    "\n",
    "cal_imgs_count = len(cal_imgs)\n",
    "result_imgs_count = len(result_imgs)\n",
    "print(f'Number of calibration images provided: {cal_imgs_count}\\nNumber of valid images for calibration: {result_imgs_count}')\n",
    "utils.plot_images_as_grid(result_imgs, images_per_row=3, figsize=(20, 24))"
   ]
  },
  {
   "cell_type": "code",
   "execution_count": null,
   "metadata": {},
   "outputs": [],
   "source": [
    "test_img = mpimg.imread(cal_test_img)\n",
    "img_size = (test_img.shape[1], test_img.shape[0])\n",
    "\n",
    "# Calibrate camera, get distortion coefficients and save them on disk\n",
    "ret, mtx, dist, rvecs, tvecs = cv2.calibrateCamera(obj_points, img_points, img_size, None, None)\n",
    "undistorted = cv2.undistort(test_img, mtx, dist, None, mtx)\n",
    "\n",
    "# Save resulting coefficients\n",
    "dist_pickle = {\n",
    "    \"mtx\": mtx,\n",
    "    \"dist\": dist\n",
    "}\n",
    "with open(cal_data_file, 'wb') as f:\n",
    "    pickle.dump(dist_pickle, f)\n",
    "\n",
    "test_img_basename = os.path.splitext(os.path.basename(cal_test_img))[0]\n",
    "save_to_path = os.path.join(output_imgs_dir, f'{test_img_basename}_undistorted.jpg')\n",
    "mpimg.imsave(save_to_path, undistorted)\n",
    "\n",
    "f, (ax1, ax2) = plt.subplots(1, 2, figsize=(20,10))\n",
    "ax1.imshow(test_img)\n",
    "ax1.set_title('original image')\n",
    "ax2.imshow(undistorted)\n",
    "ax2.set_title('undistorted image')"
   ]
  },
  {
   "cell_type": "code",
   "execution_count": null,
   "metadata": {},
   "outputs": [],
   "source": []
  }
 ],
 "metadata": {
  "kernelspec": {
   "display_name": "Python 3",
   "language": "python",
   "name": "python3"
  },
  "language_info": {
   "codemirror_mode": {
    "name": "ipython",
    "version": 3
   },
   "file_extension": ".py",
   "mimetype": "text/x-python",
   "name": "python",
   "nbconvert_exporter": "python",
   "pygments_lexer": "ipython3",
   "version": "3.6.4"
  }
 },
 "nbformat": 4,
 "nbformat_minor": 1
}
